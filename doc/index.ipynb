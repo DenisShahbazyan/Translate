{
 "cells": [
  {
   "cell_type": "markdown",
   "metadata": {},
   "source": [
    "Конвертирование формы из *.ui в *.py"
   ]
  },
  {
   "cell_type": "code",
   "execution_count": null,
   "metadata": {
    "vscode": {
     "languageId": "bat"
    }
   },
   "outputs": [],
   "source": [
    "pyuic5 -x ui/MainWindow.ui -o src/ui/MainWindow.py\n",
    "pyuic5 -x ui/Settings.ui -o src/ui/Settings.py"
   ]
  },
  {
   "cell_type": "markdown",
   "metadata": {},
   "source": [
    "Упаковать в exe"
   ]
  },
  {
   "cell_type": "code",
   "execution_count": null,
   "metadata": {
    "vscode": {
     "languageId": "bat"
    }
   },
   "outputs": [],
   "source": [
    "pyinstaller --onefile --noconsole --name Translate --icon=ui/icon/icon.ico src/main.py"
   ]
  },
  {
   "cell_type": "markdown",
   "metadata": {},
   "source": [
    "* Гайд по созданию приложения на QT [Ссылка](https://tproger.ru/translations/python-gui-pyqt/)\n",
    "---\n",
    "* Библиотека переводчика [Ссылка](https://pypi.org/project/translate-api/)\n",
    "---\n",
    "* Библиотека горячих клавиш [Ссылка](https://pynput.readthedocs.io/en/latest/keyboard.html)\n",
    "    * Пример [Ссылка](https://ru.stackoverflow.com/questions/881849/pyqt-window-show-%D0%BF%D0%BE-%D0%B3%D0%BE%D1%80%D1%8F%D1%87%D0%B8%D0%BC-%D0%BA%D0%BB%D0%B0%D0%B2%D0%B8%D1%88%D0%B0%D0%BC)\n",
    "* Еще библа горячих клавиш [Ссылка](https://ru.stackoverflow.com/questions/841014/python-3-%D0%BA%D0%B0%D0%BA-%D0%BE%D1%82%D1%81%D0%BB%D0%B5%D0%B4%D0%B8%D1%82%D1%8C-%D0%BD%D0%B0%D0%B6%D0%B0%D1%82%D0%B8%D0%B5-%D0%BD%D0%B0-%D0%BA%D0%BD%D0%BE%D0%BF%D0%BA%D0%B8)\n",
    "---\n",
    "* Статья по QT [Ссылка](https://habr.com/ru/company/skillfactory/blog/599599/)\n",
    "* Документация QT [Ссылка](https://doc.qt.io/qtforpython-5/PySide2/QtWidgets/index.html)\n",
    "* Пример QT потоков [Ссылка](https://ru.stackoverflow.com/questions/1115460/%D0%9F%D0%B5%D1%80%D0%B5%D0%B4%D0%B0%D1%87%D0%B0-%D0%B8-%D0%B2%D0%BE%D0%B7%D0%B2%D1%80%D0%B0%D1%82-%D0%B4%D0%B0%D0%BD%D0%BD%D1%8B%D1%85-%D0%B2-%D0%BA%D0%BB%D0%B0%D1%81%D1%81-qthread-pyqt5)\n",
    "---"
   ]
  }
 ],
 "metadata": {
  "language_info": {
   "name": "python"
  },
  "orig_nbformat": 4
 },
 "nbformat": 4,
 "nbformat_minor": 2
}
